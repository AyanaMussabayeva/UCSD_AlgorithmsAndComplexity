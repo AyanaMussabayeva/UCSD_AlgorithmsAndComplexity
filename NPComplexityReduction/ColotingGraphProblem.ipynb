{
 "cells": [
  {
   "cell_type": "markdown",
   "metadata": {},
   "source": [
    "classical graph coloring problem: in other words, you are given a graph, and\n",
    "you need to color its vertices into 3 different colors, so that any two vertices connected by an edge\n",
    "need to be of different colors. Colors correspond to frequencies, vertices correspond to cells, and edges\n",
    "connect neighboring cells. Graph coloring is an NP-complete problem, so we don’t currently colorsnow an\n",
    "efficient solution to it, and you need to reduce it to an instance of SAT problem which, although it is\n",
    "NP-complete, can often be solved efficiently in practice using special programs called SAT-solvers"
   ]
  },
  {
   "cell_type": "code",
   "execution_count": 1,
   "metadata": {},
   "outputs": [
    {
     "name": "stdout",
     "output_type": "stream",
     "text": [
      "3 3\n",
      "1 2\n",
      "2 3\n",
      "1 3\n"
     ]
    }
   ],
   "source": [
    "n, m = map(int, input().split())\n",
    "edges = [ list(map(int, input().split())) for i in range(m) ]"
   ]
  },
  {
   "cell_type": "code",
   "execution_count": 2,
   "metadata": {},
   "outputs": [],
   "source": [
    "colors = 3;"
   ]
  },
  {
   "cell_type": "code",
   "execution_count": 3,
   "metadata": {},
   "outputs": [],
   "source": [
    "def printEquisatisfiableSatFormula():\n",
    "\n",
    "    C, V, cnt = colors*len(edges) + n, n*colors, 1, \n",
    "    print(C,V)\n",
    "\n",
    "    for i in range(1, n+1):\n",
    "        print(\"{0} {1} {2} 0\".format(cnt, cnt+1, cnt+2))\n",
    "        cnt += 3\n",
    "\n",
    "    for edge in edges:\n",
    "        print(\"{0} {1} 0\".format(-((edge[0]-1)*colors+1), -((edge[1]-1)*colors+1)))\n",
    "        print(\"{0} {1} 0\".format(-((edge[0]-1)*colors+2), -((edge[1]-1)*colors+2)))\n",
    "        print(\"{0} {1} 0\".format(-((edge[0]-1)*colors+3), -((edge[1]-1)*colors+3)))\n"
   ]
  },
  {
   "cell_type": "code",
   "execution_count": 4,
   "metadata": {},
   "outputs": [
    {
     "name": "stdout",
     "output_type": "stream",
     "text": [
      "12 9\n",
      "1 2 3 0\n",
      "4 5 6 0\n",
      "7 8 9 0\n",
      "-1 -4 0\n",
      "-2 -5 0\n",
      "-3 -6 0\n",
      "-4 -7 0\n",
      "-5 -8 0\n",
      "-6 -9 0\n",
      "-1 -7 0\n",
      "-2 -8 0\n",
      "-3 -9 0\n"
     ]
    }
   ],
   "source": [
    "printEquisatisfiableSatFormula()"
   ]
  },
  {
   "cell_type": "code",
   "execution_count": null,
   "metadata": {},
   "outputs": [],
   "source": []
  }
 ],
 "metadata": {
  "kernelspec": {
   "display_name": "Python 3",
   "language": "python",
   "name": "python3"
  },
  "language_info": {
   "codemirror_mode": {
    "name": "ipython",
    "version": 3
   },
   "file_extension": ".py",
   "mimetype": "text/x-python",
   "name": "python",
   "nbconvert_exporter": "python",
   "pygments_lexer": "ipython3",
   "version": "3.7.3"
  }
 },
 "nbformat": 4,
 "nbformat_minor": 2
}
