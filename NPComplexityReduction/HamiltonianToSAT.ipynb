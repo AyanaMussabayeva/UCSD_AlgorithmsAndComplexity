{
 "cells": [
  {
   "cell_type": "markdown",
   "metadata": {},
   "source": [
    "This problem can be reduced to a classic Hamiltonian Path problem: given a graph, determine whether there is a route visiting each vertex exactly once. Rooms are vertices of the graph, and neighboring rooms are connected by edges. Hamiltonian Path problem is NP-complete, so we don’t know an efficient algorithm to solve it. You need to reduce it to SAT, so that it can be solved efficiently by a SAT-solver"
   ]
  },
  {
   "cell_type": "code",
   "execution_count": 1,
   "metadata": {},
   "outputs": [],
   "source": [
    "import itertools"
   ]
  },
  {
   "cell_type": "code",
   "execution_count": 2,
   "metadata": {},
   "outputs": [
    {
     "name": "stdout",
     "output_type": "stream",
     "text": [
      "5 4\n",
      "1 2\n",
      "2 3\n",
      "3 5\n",
      "4 5\n"
     ]
    }
   ],
   "source": [
    "n, m = map(int, input().split())\n",
    "edges = [ list(map(int, input().split())) for i in range(m) ]"
   ]
  },
  {
   "cell_type": "code",
   "execution_count": 3,
   "metadata": {},
   "outputs": [
    {
     "data": {
      "text/plain": [
       "[[1, 2], [2, 3], [3, 5], [4, 5]]"
      ]
     },
     "execution_count": 3,
     "metadata": {},
     "output_type": "execute_result"
    }
   ],
   "source": [
    "edges"
   ]
  },
  {
   "cell_type": "code",
   "execution_count": 4,
   "metadata": {},
   "outputs": [],
   "source": [
    "clauses = []\n",
    "positions = range(1, n+1)"
   ]
  },
  {
   "cell_type": "code",
   "execution_count": 5,
   "metadata": {},
   "outputs": [
    {
     "data": {
      "text/plain": [
       "range(1, 6)"
      ]
     },
     "execution_count": 5,
     "metadata": {},
     "output_type": "execute_result"
    }
   ],
   "source": [
    "positions"
   ]
  },
  {
   "cell_type": "code",
   "execution_count": 6,
   "metadata": {},
   "outputs": [
    {
     "data": {
      "text/plain": [
       "[[], [], [], [], []]"
      ]
     },
     "execution_count": 6,
     "metadata": {},
     "output_type": "execute_result"
    }
   ],
   "source": [
    "adj = [[] for _ in range(n)]\n",
    "adj"
   ]
  },
  {
   "cell_type": "code",
   "execution_count": 7,
   "metadata": {},
   "outputs": [
    {
     "name": "stdout",
     "output_type": "stream",
     "text": [
      "i, j: 1 2\n",
      "j-1: 1\n",
      "i-1: 0\n",
      "i, j: 2 3\n",
      "j-1: 2\n",
      "i-1: 1\n",
      "i, j: 3 5\n",
      "j-1: 4\n",
      "i-1: 2\n",
      "i, j: 4 5\n",
      "j-1: 4\n",
      "i-1: 3\n"
     ]
    }
   ],
   "source": [
    "for i, j in edges:\n",
    "    print(\"i, j:\", i, j)\n",
    "    adj[i-1].append(j-1)\n",
    "    print(\"j-1:\",j-1)\n",
    "    adj[j-1].append(i-1)\n",
    "    print(\"i-1:\",i-1)"
   ]
  },
  {
   "cell_type": "code",
   "execution_count": 8,
   "metadata": {},
   "outputs": [
    {
     "data": {
      "text/plain": [
       "[[1], [0, 2], [1, 4], [4], [2, 3]]"
      ]
     },
     "execution_count": 8,
     "metadata": {},
     "output_type": "execute_result"
    }
   ],
   "source": [
    "adj"
   ]
  },
  {
   "cell_type": "code",
   "execution_count": 9,
   "metadata": {},
   "outputs": [],
   "source": [
    "def var_number(i, j):\n",
    "    return n*i + j"
   ]
  },
  {
   "cell_type": "code",
   "execution_count": 15,
   "metadata": {},
   "outputs": [],
   "source": [
    "def exactly_One_Of(literals):\n",
    "    clauses.append([l for l in literals])\n",
    "    print(itertools.combinations(literals, 2))\n",
    "    for pair in itertools.combinations(literals, 2):\n",
    "        clauses.append([-l for l in pair])"
   ]
  },
  {
   "cell_type": "code",
   "execution_count": 16,
   "metadata": {},
   "outputs": [
    {
     "name": "stdout",
     "output_type": "stream",
     "text": [
      "<itertools.combinations object at 0x106d7af98>\n",
      "<itertools.combinations object at 0x106d7af98>\n",
      "<itertools.combinations object at 0x106d7af98>\n",
      "<itertools.combinations object at 0x106d7af98>\n",
      "<itertools.combinations object at 0x106d7af98>\n"
     ]
    }
   ],
   "source": [
    "for i in range(n):\n",
    "    exactly_One_Of([var_number(i, j) for j in positions])"
   ]
  },
  {
   "cell_type": "code",
   "execution_count": 17,
   "metadata": {},
   "outputs": [
    {
     "name": "stdout",
     "output_type": "stream",
     "text": [
      "<itertools.combinations object at 0x106d15728>\n",
      "<itertools.combinations object at 0x106d15728>\n",
      "<itertools.combinations object at 0x106d15728>\n",
      "<itertools.combinations object at 0x106d15728>\n",
      "<itertools.combinations object at 0x106d15728>\n"
     ]
    }
   ],
   "source": [
    "for j in positions:\n",
    "    exactly_One_Of([var_number(i, j) for i in range(n)])\n"
   ]
  },
  {
   "cell_type": "code",
   "execution_count": 18,
   "metadata": {},
   "outputs": [
    {
     "data": {
      "text/plain": [
       "range(1, 6)"
      ]
     },
     "execution_count": 18,
     "metadata": {},
     "output_type": "execute_result"
    }
   ],
   "source": [
    "positions"
   ]
  },
  {
   "cell_type": "code",
   "execution_count": 19,
   "metadata": {},
   "outputs": [],
   "source": [
    "for j in positions[:-1]:\n",
    "    for i, nodes in enumerate(adj):\n",
    "        clauses.append([-var_number(i, j)] + [var_number(n, j+1) for n in nodes])"
   ]
  },
  {
   "cell_type": "code",
   "execution_count": 20,
   "metadata": {},
   "outputs": [
    {
     "name": "stdout",
     "output_type": "stream",
     "text": [
      "130 25\n"
     ]
    }
   ],
   "source": [
    "print(len(clauses), n*n)"
   ]
  },
  {
   "cell_type": "code",
   "execution_count": 21,
   "metadata": {},
   "outputs": [
    {
     "name": "stdout",
     "output_type": "stream",
     "text": [
      "1 2 3 4 5 0\n",
      "-1 -2 0\n",
      "-1 -3 0\n",
      "-1 -4 0\n",
      "-1 -5 0\n",
      "-2 -3 0\n",
      "-2 -4 0\n",
      "-2 -5 0\n",
      "-3 -4 0\n",
      "-3 -5 0\n",
      "-4 -5 0\n",
      "6 7 8 9 10 0\n",
      "-6 -7 0\n",
      "-6 -8 0\n",
      "-6 -9 0\n",
      "-6 -10 0\n",
      "-7 -8 0\n",
      "-7 -9 0\n",
      "-7 -10 0\n",
      "-8 -9 0\n",
      "-8 -10 0\n",
      "-9 -10 0\n",
      "11 12 13 14 15 0\n",
      "-11 -12 0\n",
      "-11 -13 0\n",
      "-11 -14 0\n",
      "-11 -15 0\n",
      "-12 -13 0\n",
      "-12 -14 0\n",
      "-12 -15 0\n",
      "-13 -14 0\n",
      "-13 -15 0\n",
      "-14 -15 0\n",
      "16 17 18 19 20 0\n",
      "-16 -17 0\n",
      "-16 -18 0\n",
      "-16 -19 0\n",
      "-16 -20 0\n",
      "-17 -18 0\n",
      "-17 -19 0\n",
      "-17 -20 0\n",
      "-18 -19 0\n",
      "-18 -20 0\n",
      "-19 -20 0\n",
      "21 22 23 24 25 0\n",
      "-21 -22 0\n",
      "-21 -23 0\n",
      "-21 -24 0\n",
      "-21 -25 0\n",
      "-22 -23 0\n",
      "-22 -24 0\n",
      "-22 -25 0\n",
      "-23 -24 0\n",
      "-23 -25 0\n",
      "-24 -25 0\n",
      "1 6 11 16 21 0\n",
      "-1 -6 0\n",
      "-1 -11 0\n",
      "-1 -16 0\n",
      "-1 -21 0\n",
      "-6 -11 0\n",
      "-6 -16 0\n",
      "-6 -21 0\n",
      "-11 -16 0\n",
      "-11 -21 0\n",
      "-16 -21 0\n",
      "2 7 12 17 22 0\n",
      "-2 -7 0\n",
      "-2 -12 0\n",
      "-2 -17 0\n",
      "-2 -22 0\n",
      "-7 -12 0\n",
      "-7 -17 0\n",
      "-7 -22 0\n",
      "-12 -17 0\n",
      "-12 -22 0\n",
      "-17 -22 0\n",
      "3 8 13 18 23 0\n",
      "-3 -8 0\n",
      "-3 -13 0\n",
      "-3 -18 0\n",
      "-3 -23 0\n",
      "-8 -13 0\n",
      "-8 -18 0\n",
      "-8 -23 0\n",
      "-13 -18 0\n",
      "-13 -23 0\n",
      "-18 -23 0\n",
      "4 9 14 19 24 0\n",
      "-4 -9 0\n",
      "-4 -14 0\n",
      "-4 -19 0\n",
      "-4 -24 0\n",
      "-9 -14 0\n",
      "-9 -19 0\n",
      "-9 -24 0\n",
      "-14 -19 0\n",
      "-14 -24 0\n",
      "-19 -24 0\n",
      "5 10 15 20 25 0\n",
      "-5 -10 0\n",
      "-5 -15 0\n",
      "-5 -20 0\n",
      "-5 -25 0\n",
      "-10 -15 0\n",
      "-10 -20 0\n",
      "-10 -25 0\n",
      "-15 -20 0\n",
      "-15 -25 0\n",
      "-20 -25 0\n",
      "-1 7 0\n",
      "-6 2 12 0\n",
      "-11 7 22 0\n",
      "-16 22 0\n",
      "-21 12 17 0\n",
      "-2 8 0\n",
      "-7 3 13 0\n",
      "-12 8 23 0\n",
      "-17 23 0\n",
      "-22 13 18 0\n",
      "-3 9 0\n",
      "-8 4 14 0\n",
      "-13 9 24 0\n",
      "-18 24 0\n",
      "-23 14 19 0\n",
      "-4 10 0\n",
      "-9 5 15 0\n",
      "-14 10 25 0\n",
      "-19 25 0\n",
      "-24 15 20 0\n"
     ]
    }
   ],
   "source": [
    "for c in clauses:\n",
    "    c.append(0)\n",
    "    print(' '.join(map(str, c)))"
   ]
  },
  {
   "cell_type": "code",
   "execution_count": null,
   "metadata": {},
   "outputs": [],
   "source": []
  }
 ],
 "metadata": {
  "kernelspec": {
   "display_name": "Python 3",
   "language": "python",
   "name": "python3"
  },
  "language_info": {
   "codemirror_mode": {
    "name": "ipython",
    "version": 3
   },
   "file_extension": ".py",
   "mimetype": "text/x-python",
   "name": "python",
   "nbconvert_exporter": "python",
   "pygments_lexer": "ipython3",
   "version": "3.7.3"
  }
 },
 "nbformat": 4,
 "nbformat_minor": 2
}
